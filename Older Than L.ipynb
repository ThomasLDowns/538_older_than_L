{
 "cells": [
  {
   "cell_type": "markdown",
   "metadata": {},
   "source": [
    "# Older than L "
   ]
  },
  {
   "cell_type": "code",
   "execution_count": 6,
   "metadata": {},
   "outputs": [
    {
     "data": {
      "text/plain": [
       "g_e (generic function with 1 method)"
      ]
     },
     "execution_count": 6,
     "metadata": {},
     "output_type": "execute_result"
    }
   ],
   "source": [
    "function f_a(b, d)\n",
    "    b > 20 && d > 16\n",
    "end\n",
    "\n",
    "function g_a(b, d)\n",
    "    b <= 20 && d <= 16\n",
    "end\n",
    "\n",
    "function f_b(c, e)\n",
    "    c > 18 && e < 20\n",
    "end\n",
    "\n",
    "function g_b(c, e)\n",
    "    c <= 18 && e >= 20\n",
    "end\n",
    "\n",
    "function f_c(a, d)\n",
    "    a == 19 && d < 22\n",
    "end\n",
    "\n",
    "function g_c(a, d)\n",
    "    a != 19 && d >= 22\n",
    "end\n",
    "\n",
    "function f_d(b, e)\n",
    "    b == 20 && e != 17\n",
    "end\n",
    "\n",
    "function g_d(b, e)\n",
    "    b != 20 && e == 17\n",
    "end\n",
    "\n",
    "function f_e(a, c)\n",
    "    a > 21 && c < 18\n",
    "end\n",
    "\n",
    "function g_e(a, c)\n",
    "    a <= 21 && c >= 18\n",
    "end"
   ]
  },
  {
   "cell_type": "code",
   "execution_count": 12,
   "metadata": {},
   "outputs": [
    {
     "name": "stdout",
     "output_type": "stream",
     "text": [
      "ages:19 20 18 16 20\n",
      "l: 19\n",
      "Bool[false, false, true, true, false]\n",
      "\n",
      "ages:19 20 18 16 21\n",
      "l: 19\n",
      "Bool[false, false, true, true, false]\n",
      "\n",
      "ages:19 20 18 16 22\n",
      "l: 19\n",
      "Bool[false, false, true, true, false]\n",
      "\n",
      " 25.281260 seconds (18.58 M allocations: 566.568 MiB, 0.24% gc time)\n"
     ]
    }
   ],
   "source": [
    "@time begin\n",
    "for a = 16:22, b = 16:22, c = 16:22, d = 16:22, e = 16:22, l = 16:22,\n",
    "    f1 in [f_a, g_a], f2 in [f_b, g_b], f3 in [f_c, g_c], f4 in [f_d, g_d], f5 in [f_e, g_e]\n",
    "    if (f1(b, d) && f2(c, e) && f3(a, d) && f4(b, e) && f5(a, c)) &&\n",
    "        (map(x -> x < l, [a, b, c, d, e]) == [f_a(b, d), f_b(c, e), f_c(a, d), f_d(b, e), f_e(a, c)])\n",
    "        println(\"ages:\", a, \" \", b, \" \", c, \" \", d, \" \", e)\n",
    "        println(\"l: \", l)\n",
    "        println([f_a(b, d), f_b(c, e), f_c(a, d), f_d(b, e), f_e(a, c)])\n",
    "        println()\n",
    "    end\n",
    "end\n",
    "end"
   ]
  },
  {
   "cell_type": "code",
   "execution_count": null,
   "metadata": {},
   "outputs": [],
   "source": []
  }
 ],
 "metadata": {
  "kernelspec": {
   "display_name": "Julia 1.1.0",
   "language": "julia",
   "name": "julia-1.1"
  },
  "language_info": {
   "file_extension": ".jl",
   "mimetype": "application/julia",
   "name": "julia",
   "version": "1.1.0"
  }
 },
 "nbformat": 4,
 "nbformat_minor": 2
}
